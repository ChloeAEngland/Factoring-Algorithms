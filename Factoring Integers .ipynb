{
 "cells": [
  {
   "cell_type": "code",
   "execution_count": 1,
   "id": "d6e005",
   "metadata": {
    "collapsed": false
   },
   "outputs": [
   ],
   "source": [
    "###########################BACKGROUND ALGORITHMS NEEDED ################################################################\n",
    "#gcd is already implimented into sage \n",
    "#Prime sieve is already in sage as primes(B)\n",
    "\n",
    "def modinv(a,n):#computes a^-1 mod n using extended euclidean algorithm\n",
    "    a%=n\n",
    "    r=(0,1)\n",
    "    #s=(1,0)\n",
    "    N=(n,a)\n",
    "    #at all times, we should have N[0]=r[0]*a+s[0]*n\n",
    "    while N[1]!=0:\n",
    "        d=N[0]//N[1] #\n",
    "        r=(r[1],r[0]-d*r[1])\n",
    "        #s=(s[1],s[0]-d*s[1])\n",
    "        N=(N[1],N[0]%N[1])\n",
    "    assert N[0]==1# gcd(a,n)!=1\n",
    "    return r[0]%n\n",
    "\n",
    "def modexp(a,m,n):#computes a**m%n by repeated squaring\n",
    "    if m==1:\n",
    "        return a%n\n",
    "    elif m%2 == 0:\n",
    "        return modexp((a*a)%n,m//2,n)\n",
    "    else:\n",
    "        return (a*modexp((a*a)%n,(m-1)//2,n))%n\n",
    "    \n",
    "def lcmB(B):#computes lcm of 1,2,3,...,B\n",
    "    product = 1\n",
    "    for p in primes(B):\n",
    "        product *= p**(int(log(B ,p))) \n",
    "    return product\n",
    "\n",
    "def strongTrial(n,a):#use strong test\n",
    "    #n-1=2^st\n",
    "    t=n-1\n",
    "    s=0\n",
    "    while t%2==0:\n",
    "        t//=2\n",
    "        s+=1\n",
    "    a=modexp(a,t,n)\n",
    "    if a==1:\n",
    "        return True\n",
    "    for i in range(s):\n",
    "        if a==n-1:\n",
    "            return True\n",
    "        a=(a*a)%n\n",
    "    return False\n",
    "\n",
    "def isPrime(n):#use strong test 10 times\n",
    "    for i in range(10):\n",
    "        a=randint(1,n-1)\n",
    "        if gcd(a,n)>1:\n",
    "            return False\n",
    "        if not strongTrial(n,a):\n",
    "            return False\n",
    "    return True"
   ]
  },
  {
   "cell_type": "code",
   "execution_count": 2,
   "id": "6b33eb",
   "metadata": {
    "collapsed": false
   },
   "outputs": [
   ],
   "source": [
    "################################# POLLARD'S P-1 ###################################################\n",
    "\n",
    "def pollard(N,B=15,m=0):#implements pollards p-1 algorithm\n",
    "    if not m: #this way we don't compute lcmB(B) many times if we run the algorithm many times\n",
    "        m = lcmB(B)\n",
    "    for i in range(100):\n",
    "        a=randint(2,N-2)\n",
    "        am_1 = modexp(a,m,N) - 1\n",
    "        factor = gcd(am_1,N)\n",
    "        if 1 < factor < N:\n",
    "            return factor,N//factor\n",
    "    return -1"
   ]
  },
  {
   "cell_type": "code",
   "execution_count": 3,
   "id": "dc5217",
   "metadata": {
    "collapsed": false
   },
   "outputs": [
    {
     "name": "stdout",
     "output_type": "stream",
     "text": [
      "(53, 2539)\n",
      "(1055, 50477)\n",
      "(2269, 3343)\n",
      "-1\n"
     ]
    }
   ],
   "source": [
    "#Testing pollard's p-1\n",
    "\n",
    "print(pollard(134567))\n",
    "print(pollard(53253235))\n",
    "print(pollard(2269*3343)) #Testing a semi prime, note that it often fails so returns -1\n",
    "print(pollard(35327*34537))"
   ]
  },
  {
   "cell_type": "code",
   "execution_count": 4,
   "id": "f026a5",
   "metadata": {
    "collapsed": false
   },
   "outputs": [
   ],
   "source": [
    "########################### GRAPH FOR B's IN POLLARD ########################################################\n",
    "from time import time\n",
    "from matplotlib import pyplot as plt\n",
    "\n",
    "def pollardGraphB(N):\n",
    "    B=list(range(3,200,2))\n",
    "    goodB=[]\n",
    "    goodT=[]\n",
    "    badB=[]\n",
    "    badT=[]\n",
    "    for i in B:\n",
    "        start=time()\n",
    "        m=pollard(N,i)\n",
    "        end=time()\n",
    "        if m==-1:\n",
    "            badB.append(i)\n",
    "            badT.append(end-start)\n",
    "        else:\n",
    "            goodB.append(i)\n",
    "            goodT.append(end-start)\n",
    "    plt.scatter(goodB,goodT,color='g')\n",
    "    plt.scatter(badB,badT,color='r')\n",
    "    plt.xlabel('Value of B')\n",
    "    plt.ylabel('Time taken to factorise (or not factorise) N in seconds')\n",
    "    plt.legend(['Success','Fail'], loc='upper left')\n",
    "    plt.show()\n",
    "\n",
    "#pollardGraphB(35327*34537)"
   ]
  },
  {
   "cell_type": "code",
   "execution_count": 5,
   "id": "2cc29e",
   "metadata": {
    "collapsed": false
   },
   "outputs": [
   ],
   "source": [
    "############################### LENSTRAS METHOD ###########################################################\n",
    "\n",
    "def ECadd(a,N,P,Q): # add points P & Q over the elliptic curve y^2 = x^3 + ax + 1\n",
    "    if P == \"inf\": #case 1: P is infinity\n",
    "        return Q\n",
    "    if Q == \"inf\": #case 2: Q is infinity\n",
    "        return P\n",
    "    if P[0] == Q[0] and (P[1] + Q[1])%N==0: #case 3: points on same x line\n",
    "        return \"inf\"\n",
    "    else: #compute gradient, use this to find new (x,y)\n",
    "        if P==Q:\n",
    "            grad = ((3*P[0]**2 + a)*(modinv(2*P[1],N)))%N\n",
    "        else:\n",
    "            grad = ((P[1]-Q[1])*(modinv(P[0]-Q[0],N)))%N\n",
    "        x = (grad**2 - P[0]- Q[0])%N #x co-ord of output (R in wstein ENT alg 6.2.1)\n",
    "        y = (-grad*x-P[1]+grad*P[0])%N\n",
    "        return (x,y)\n",
    "           \n",
    "def lenstraTrial(a,N,m):#does lenstras algorithm on the EC y^2=x^3+ax+1\n",
    "    P=(0,1)\n",
    "    mP=(0,1)# use this to compute mP\n",
    "    m=bin(m)[2:]#this is m in binary as a string of 0s and 1s\n",
    "    #now calculate m*P\n",
    "    for bit in m[1:]:#looks at bits but ignores the first to do repeated doubling\n",
    "        try:\n",
    "            mP=ECadd(a,N,mP,mP)\n",
    "        except:#then we have found a nonzero gcd in denom, which is 2P[1] in ECadd\n",
    "            return gcd(N,mP[1])#y1 is a non-unit in Z/NZ so this is a non-trivial factor\n",
    "        if bit=='1':\n",
    "            try:\n",
    "                mP=ECadd(a,N,mP,P)\n",
    "            except: #we found a non 0 gcd in denom, which is P[0]-Q[0]=mP[0]\n",
    "                return gcd(N,mP[0])\n",
    "    return N#failed to find a non-trivial factor\n",
    "\n",
    "def lenstra(N,B=15,numTrials=10,m=0):#trying different elliptic curves until one works\n",
    "    if N%2==0:\n",
    "        return 2,N//2\n",
    "    if not m:#if we have pre-computed an m, don't compute it again!\n",
    "        m=lcmB(B)\n",
    "    for i in range(numTrials):\n",
    "        a=randint(1,N-1)\n",
    "        g=lenstraTrial(a,N,m)\n",
    "        if 1<g<N:\n",
    "            return g,N//g\n",
    "    return -1#failed to find a factor\n"
   ]
  },
  {
   "cell_type": "code",
   "execution_count": 6,
   "id": "ae263b",
   "metadata": {
    "collapsed": false
   },
   "outputs": [
    {
     "name": "stdout",
     "output_type": "stream",
     "text": [
      "(53, 2539)\n",
      "(5, 10650647)\n",
      "(3343, 2269)\n",
      "-1\n"
     ]
    }
   ],
   "source": [
    "#Attempting to factorise the same integers as we tested for pollard, notice that here we can in fact factorise the semi prime!\n",
    "\n",
    "print(lenstra(134567))\n",
    "print(lenstra(53253235))\n",
    "print(lenstra(2269*3343))\n",
    "print(lenstra(35327*34537)) #This one only factorises a some of the time, you can re run it to see."
   ]
  },
  {
   "cell_type": "code",
   "execution_count": 7,
   "id": "93baac",
   "metadata": {
    "collapsed": false
   },
   "outputs": [
   ],
   "source": [
    "def lenstraGraphB(N):\n",
    "    B=list(range(3,200,2))\n",
    "    goodB=[]\n",
    "    goodT=[]\n",
    "    badB=[]\n",
    "    badT=[]\n",
    "    for i in B:\n",
    "        start=time()\n",
    "        m=lenstra(N,i)\n",
    "        end=time()\n",
    "        if m==-1:\n",
    "            badB.append(i)\n",
    "            badT.append(end-start)\n",
    "        else:\n",
    "            goodB.append(i)\n",
    "            goodT.append(end-start)\n",
    "    plt.scatter(goodB,goodT,color='g')\n",
    "    plt.scatter(badB,badT,color='r')\n",
    "    plt.xlabel('Value of B')\n",
    "    plt.ylabel('Time taken to factorise (or not factorise) N in seconds')\n",
    "    plt.legend(['Success','Fail'], loc='upper left')\n",
    "    plt.show()\n",
    "\n",
    "#lenstraGraphB(35327*34537)"
   ]
  },
  {
   "cell_type": "code",
   "execution_count": 15,
   "id": "d266b6",
   "metadata": {
    "collapsed": false
   },
   "outputs": [
   ],
   "source": [
    "######################### LOG TIME GRAPH FOR POLLARD & LENSTRA ##########################################\n",
    "from time import time\n",
    "from matplotlib import pyplot as plt\n",
    "\n",
    "def timegraph(reps=10000,B=15,lowerbound=10000,upperbound=100000):\n",
    "    m=lcmB(B)\n",
    "    tpollard=[]\n",
    "    pollardfails=0\n",
    "    tlenstra=[]\n",
    "    lenstrafails=0\n",
    "    for i in range(reps):\n",
    "        n=randint(lowerbound,upperbound)*2+1\n",
    "        while isPrime(n):\n",
    "            n=randint(lowerbound,upperbound)*2+1\n",
    "        start=time()\n",
    "        for j in range(1):\n",
    "            f=pollard(n,m=m)\n",
    "            if f==-1:\n",
    "                pollardfails+=1\n",
    "        tpollard.append(log(time()-start))\n",
    "        start=time()\n",
    "        for j in range(1):\n",
    "            f=lenstra(n,m=m)\n",
    "            if f==-1:\n",
    "                lenstrafails+=1\n",
    "        tlenstra.append(log(time()-start))\n",
    "    plt.hist(tpollard,color='r',alpha=0.5,bins=30)\n",
    "    plt.hist(tlenstra,color='b',alpha=0.5,bins=30)\n",
    "    plt.legend(['Pollard','Lenstra'])\n",
    "    plt.xlabel('log of time')\n",
    "    plt.ylabel('frequency')\n",
    "    plt.show()\n",
    "    print(f\"pollard failed {pollardfails} times\")\n",
    "    print(f\"lenstra failed {lenstrafails} times\")"
   ]
  },
  {
   "cell_type": "code",
   "execution_count": 31,
   "id": "7f3edc",
   "metadata": {
    "collapsed": false
   },
   "outputs": [
   ],
   "source": [
    "#log time histogram showing the frequencies of N ’s against time taken to factorise with Pollard's and Lenstra's methods. It shows that Pollard's is slower than Lenstra's which is to be expected.\n",
    "\n",
    "#timegraph()"
   ]
  },
  {
   "cell_type": "code",
   "execution_count": 9,
   "id": "bb28ad",
   "metadata": {
    "collapsed": false
   },
   "outputs": [
   ],
   "source": [
    "########################## DIXONS'S RANDOM SQUARES#########################################\n",
    "def Bsmoothness(N,primesuptoB): #this is so we can find suitible k's that are B smooth\n",
    "    output = []\n",
    "    for p in primesuptoB:\n",
    "        count = 0\n",
    "        while N%p==0:\n",
    "            N/=p\n",
    "            count +=1\n",
    "        output.append(count) # adds the power to the list\n",
    "    if N==1:\n",
    "        return output \n",
    "    return False #fails if not B smooth\n",
    "\n",
    "\n",
    "def dixons(N,B=10):\n",
    "    P=list(primes(B))\n",
    "    goodA=[] #initialise a list of a's that are squares\n",
    "    goodK=[]\n",
    "    J = matrix(ZZ)\n",
    "    lb=int(sqrt(N)) #bounds for our random a's\n",
    "    ub=N-lb\n",
    "    for _ in range(1000):\n",
    "        a=randint(lb,ub)\n",
    "        k= (a*a)%N\n",
    "        if k==0: #need to deal with this case separately otherwise Bsmoothness will go on forever\n",
    "            return gcd(a,N),N/gcd(a,N)\n",
    "        kFactors = Bsmoothness(k,P)\n",
    "        if kFactors:\n",
    "            J=matrix(ZZ,J.rows()+[kFactors]) #adds the row kFactors to the matrix J\n",
    "            goodA.append(a)\n",
    "            goodK.append(k)\n",
    "            x=matrix(GF(2),J).left_kernel().random_element() #takes a random element in the null space of matrix J mod 2\n",
    "            A,B=1,1 \n",
    "            for i in range(len(x)): # A is the product of good A's \n",
    "                if x[i]==1:\n",
    "                    A*=goodA[i]\n",
    "            y=1/2*matrix(ZZ,x)*J #This will give the prime factorisation of B\n",
    "            for i in range(len(P)): \n",
    "                B*=P[i]^y[0,i] #calculates the integer B so now we have A^2=B^2 mod N\n",
    "            g=gcd(A-B,N)\n",
    "            if g != 1 and g != N:\n",
    "                return g,N/g\n",
    "    return -1\n",
    "            "
   ]
  },
  {
   "cell_type": "code",
   "execution_count": 10,
   "id": "cb61b9",
   "metadata": {
    "collapsed": false
   },
   "outputs": [
    {
     "data": {
      "text/plain": [
       "[2, 2, 0, 0]"
      ]
     },
     "execution_count": 10,
     "metadata": {
     },
     "output_type": "execute_result"
    }
   ],
   "source": [
    "#Example of writing 36 as an array as given in Dixon's method\n",
    "\n",
    "Bsmoothness(36,list(primes(10)))"
   ]
  },
  {
   "cell_type": "code",
   "execution_count": 11,
   "id": "be7a32",
   "metadata": {
    "collapsed": false
   },
   "outputs": [
    {
     "name": "stdout",
     "output_type": "stream",
     "text": [
      "(2539, 53)\n",
      "(252385, 211)\n"
     ]
    },
    {
     "name": "stdout",
     "output_type": "stream",
     "text": [
      "(2269, 3343)\n"
     ]
    },
    {
     "name": "stdout",
     "output_type": "stream",
     "text": [
      "(35327, 34537)\n"
     ]
    }
   ],
   "source": [
    "#Testing Dixon's random squares\n",
    "\n",
    "print(dixons(134567,100))\n",
    "print(dixons(53253235,100))\n",
    "print(dixons(2269*3343,100))\n",
    "print(dixons(35327*34537,100))\n",
    "\n",
    "#As we can see Dixon's method also can factorise this semi prime so it works better than pollard's!\n",
    "#It also can find the 4th semi-prime which Lenstra's could not"
   ]
  },
  {
   "cell_type": "code",
   "execution_count": 14,
   "id": "88bc52",
   "metadata": {
    "collapsed": false
   },
   "outputs": [
   ],
   "source": [
    "######################## GRAPH FOR WHAT VALUES OF B WORK WELL FOR DIXONS ################################\n",
    "\n",
    "def dixonGraphB(N):\n",
    "    B=list(range(3,200,2))\n",
    "    goodB=[]\n",
    "    goodT=[]\n",
    "    badB=[]\n",
    "    badT=[]\n",
    "    for i in B:\n",
    "        start=time()\n",
    "        m=dixons(N,i)\n",
    "        end=time()\n",
    "        if m==-1:\n",
    "            badB.append(i)\n",
    "            badT.append(end-start)\n",
    "        else:\n",
    "            goodB.append(i)\n",
    "            goodT.append(end-start)\n",
    "    plt.scatter(goodB,goodT,color='g')\n",
    "    plt.scatter(badB,badT,color='r')\n",
    "    plt.xlabel('Value of B')\n",
    "    plt.ylabel('Time taken to factorise (or not factorise) N in seconds')\n",
    "    plt.legend(['Success','Fail'], loc='upper left')\n",
    "    plt.show()\n",
    "\n",
    "#dixonGraphB(35327*34537)"
   ]
  },
  {
   "cell_type": "code",
   "execution_count": 16,
   "id": "f291e6",
   "metadata": {
    "collapsed": false
   },
   "outputs": [
   ],
   "source": [
    "############################ CONTINUED FRACTIONS ###############################\n",
    "maxima_calculus('algebraic: true;') # So that sage stores the (a+b sqrt(N))/d  in simplified form\n",
    "def cFracFac(N, B=10):\n",
    "    Ns = sqrt(N)  # Start with the initial value of Ns\n",
    "    if Ns.is_integer():  # If Ns is an integer, we have found a square\n",
    "        return Ns, Ns\n",
    "    As = floor(Ns)  # The floor of Ns\n",
    "    p = (1, As)  # p starts as [1, As]\n",
    "    P = list(primes(B))\n",
    "    goodP = []  # Initialize a list of p's that are squares\n",
    "    goodK = []\n",
    "    J = matrix(ZZ)  # Empty matrix to hold factors\n",
    "    for i in range(1000): #This is how many convergents we will take \n",
    "        k = p[1]**2 % N  # Calculate k\n",
    "        if k > N / 2:\n",
    "            k -= N  # Adjust k if it's greater than N/2\n",
    "        kFactors = Bsmoothness(abs(k), P)\n",
    "        if kFactors:\n",
    "            kFactors = [int(k < 0)] + kFactors  # Handle the case where k is negative\n",
    "            J = matrix(ZZ, J.rows() + [kFactors])  # Add row kFactors to matrix J\n",
    "            goodP.append(p[-1])  # Add the current p to goodP\n",
    "            goodK.append(k)  # and k to goodK\n",
    "            x = matrix(GF(2), J).left_kernel().random_element()  # Random element in the null space mod 2, so this may produce a good A and B\n",
    "            A, B = 1, 1  # Initialize A and B\n",
    "            for i in range(len(x)):  # Compute A as the product of good A's\n",
    "                if x[i] == 1:\n",
    "                    A *= goodP[i]\n",
    "            y = 1 / 2 * matrix(ZZ, x) * J  # Compute B from the kernel\n",
    "            for i in range(len(P)):  # Calculate B using the primes in P\n",
    "                B *= P[i] ** y[0, i + 1]\n",
    "            g = gcd(A - B, N)\n",
    "            if g != 1 and g != N:\n",
    "                return g, N / g  # Return the factors if a non-trivial gcd is found\n",
    "        Ns = (1 / (Ns - As)).simplify_rational()  # Update Ns\n",
    "        As = floor(Ns)  # Update As\n",
    "        p = (p[1],(p[1] * As + p[0]) % N)  # Update p\n",
    "    return -1"
   ]
  },
  {
   "cell_type": "code",
   "execution_count": 8,
   "id": "ce83fb",
   "metadata": {
    "collapsed": false
   },
   "outputs": [
   ],
   "source": [
    "######################## GRAPH FOR WHAT VALUES OF B WORK WELL FOR CFRAC ################################\n",
    "\n",
    "def cFracGraphB(N):\n",
    "    B=list(range(50,200,2))\n",
    "    goodB=[]\n",
    "    goodT=[]\n",
    "    badB=[]\n",
    "    badT=[]\n",
    "    for i in B:\n",
    "        start=time()\n",
    "        m=cFracFac(N,i)\n",
    "        end=time()\n",
    "        if m==-1:\n",
    "            badB.append(i)\n",
    "            badT.append(end-start)\n",
    "        else:\n",
    "            goodB.append(i)\n",
    "            goodT.append(end-start)\n",
    "    plt.scatter(goodB,goodT,color='g')\n",
    "    plt.scatter(badB,badT,color='r')\n",
    "    plt.xlabel('Value of B')\n",
    "    plt.ylabel('Time taken to factorise (or not factorise) N in seconds')\n",
    "    plt.legend(['Success','Fail'], loc='upper left')\n",
    "    plt.show()\n",
    "\n",
    "#cFracGraphB(35327*34537)"
   ]
  },
  {
   "cell_type": "code",
   "execution_count": 16,
   "id": "0d3847",
   "metadata": {
    "collapsed": false,
    "scrolled": true
   },
   "outputs": [
    {
     "name": "stdout",
     "output_type": "stream",
     "text": [
      "(2539, 53)\n",
      "(1521521, 35)\n"
     ]
    },
    {
     "name": "stdout",
     "output_type": "stream",
     "text": [
      "(3343, 2269)\n"
     ]
    },
    {
     "name": "stdout",
     "output_type": "stream",
     "text": [
      "(35327, 34537)\n"
     ]
    }
   ],
   "source": [
    "#Testing Continued Fracion\n",
    "\n",
    "\n",
    "print(cFracFac(134567,100))\n",
    "print(cFracFac(53253235,100))\n",
    "print(cFracFac(2269*3343,100))\n",
    "print(cFracFac(35327*34537,100)) #if we choose B=10 this doesn't work, so I chose a bigger value of B"
   ]
  },
  {
   "cell_type": "code",
   "execution_count": 17,
   "id": "a6dc25",
   "metadata": {
    "collapsed": false
   },
   "outputs": [
   ],
   "source": [
    "###################### LOG TIME GRAPH FOR DIXONS & CONTINUED FRACTIONS ##################################\n",
    "#This takes too long for my computer...\n",
    "\n",
    "def timegraph2(reps=300,B=200,lowerbound=1000,upperbound=10000):\n",
    "    tdixons=[]\n",
    "    tcFrac=[]\n",
    "    dixonfails=0\n",
    "    cfracfails=0\n",
    "    for i in range(reps):\n",
    "        print(i)\n",
    "        n=randint(lowerbound,upperbound)*2+1\n",
    "        while isPrime(n):\n",
    "            n=randint(lowerbound,upperbound)*2+1\n",
    "        start=time()\n",
    "        for j in range(1):\n",
    "            f=dixons(n,B)\n",
    "            if f==-1:\n",
    "                dixonfails+=1\n",
    "        tdixons.append(log(time()-start))\n",
    "        start=time()\n",
    "        for j in range(1):\n",
    "            f=cFracFac(n,B)\n",
    "            if f==-1:\n",
    "                cfracfails+=1\n",
    "        tcFrac.append(log(time()-start))\n",
    "    plt.hist(tdixons,color='r',alpha=0.5,bins=30)\n",
    "    plt.hist(tcFrac,color='b',alpha=0.5,bins=30)\n",
    "    plt.legend(['Dixons','Continued Fractions'])\n",
    "    plt.xlabel('log of time')\n",
    "    plt.ylabel('frequency')\n",
    "    print(f\"Dixon failed {dixonfails} times\")\n",
    "    print(f\"Continued Fraction failed {cfracfails} times\")\n",
    "    plt.show()\n",
    "    "
   ]
  },
  {
   "cell_type": "code",
   "execution_count": 13,
   "id": "d95174",
   "metadata": {
    "collapsed": false
   },
   "outputs": [
   ],
   "source": [
    "#Before you run this, change i=100 in the CFRAC method, this is so that the computer can actual produce this graph for this many repetitions\n",
    "\n",
    "timegraph2()"
   ]
  }
 ],
 "metadata": {
  "kernelspec": {
   "argv": [
    "sage-10.4",
    "--python",
    "-m",
    "sage.repl.ipython_kernel",
    "--matplotlib=inline",
    "-f",
    "{connection_file}"
   ],
   "display_name": "SageMath 10.4",
   "env": {
   },
   "language": "sagemath",
   "metadata": {
    "cocalc": {
     "description": "Open-source mathematical software system",
     "priority": 10,
     "url": "https://www.sagemath.org/"
    }
   },
   "name": "sage-10.4",
   "resource_dir": "/ext/jupyter/kernels/sage-10.4"
  },
  "language_info": {
   "codemirror_mode": {
    "name": "ipython",
    "version": 3
   },
   "file_extension": ".py",
   "mimetype": "text/x-python",
   "name": "python",
   "nbconvert_exporter": "python",
   "pygments_lexer": "ipython3",
   "version": "3.12.4"
  }
 },
 "nbformat": 4,
 "nbformat_minor": 4
}