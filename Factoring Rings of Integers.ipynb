{
 "cells": [
  {
   "cell_type": "code",
   "execution_count": 9,
   "id": "061d21",
   "metadata": {
    "collapsed": false
   },
   "outputs": [
   ],
   "source": [
    "############## ZZ[sqrt(d)] ###################\n",
    "\n",
    "fundamental_units={} # this will ensure we only ever try to compute fundamental units for each ring of integers once, and then it will remember them\n",
    "\n",
    "def solvePell(N, val): #solves abs(x^2-N*y^2)=val\n",
    "    N0 = sqrt(N)  # Start with the initial value of N0\n",
    "    a = floor(N0)  # The floor of N\n",
    "    p = (1, a)  # p starts as (1, a)\n",
    "    q = (0, 1)  # q starts as (0, 1)\n",
    "    if val==1:\n",
    "        while 1:\n",
    "            if abs(p[1]^2-N*q[1]^2)==1:\n",
    "                return p[1],q[1]\n",
    "            N0 = 1 / (N0 - a)  # Update N0\n",
    "            a = floor(N0)  # Update a\n",
    "            p = (p[1],p[1] * a + p[0])  # Update p\n",
    "            q = (q[1],q[1] * a + q[0])  # Update q\n",
    "    if val==4:\n",
    "        ul=oo # initialise ul to infinity\n",
    "        while 1:\n",
    "            if 2*p[1]+2*q[1]*sqrt(N) > ul:\n",
    "                return poss\n",
    "            if abs(p[1]^2-N*q[1]^2)==4:\n",
    "                return p[1],q[1]\n",
    "            if abs(p[1]^2-N*q[1]^2)==1 and ul==oo:\n",
    "                poss=(2*p[1],2*q[1])\n",
    "                ul = 2*p[1]+2*q[1]*sqrt(N)\n",
    "            N0 = 1 / (N0 - a)  # Update N0\n",
    "            a = floor(N0)  # Update a\n",
    "            p = (p[1],p[1] * a + p[0])  # Update p\n",
    "            q = (q[1],q[1] * a + q[0])  # Update q\n",
    "\n",
    "class Zsqrtd: #creating a class for the ring of integers for Q(sqrt(d))\n",
    "    def __init__(self,integer,root=0,d=-1): #initialise an element\n",
    "        self.integer=integer\n",
    "        self.root=root #if d is 1 mod 4 then this is (1+sqrt(d))/2\n",
    "        #if d not squarefree raise an error\n",
    "        for f in range(2,int(abs(d)**0.5)+1):\n",
    "            if d%f**2==0:\n",
    "                raise ValueError(\"d must be squarefree\")\n",
    "        self.d=d\n",
    "        #now lets check if we already know a fundamental unit!\n",
    "        if d>0:\n",
    "            if d not in fundamental_units.keys():\n",
    "                fundamental_units[d]=0#so now d is in fundamental_units.keys()\n",
    "                if d%4==1:\n",
    "                    sol=solvePell(d,4)\n",
    "                    #so sol[0]/2+sol[1]/2*sqrt(d) is our fundamental unit, which is written as\n",
    "                    #sol[0]/2-sol[1]/2 + sol[1] (1+sqrt(d))/2\n",
    "                    fundamental_units[d]=Zsqrtd(sol[0]/2-sol[1]/2,sol[1],d)\n",
    "                else:\n",
    "                    sol=solvePell(d,1)\n",
    "                    fundamental_units[d]=Zsqrtd(sol[0],sol[1],d)\n",
    "    def __repr__(self): # how to represent a number in Q(sqrt(d))\n",
    "        if self.root >=0:\n",
    "            if self.d % 4 != 1:\n",
    "                return str(self.integer) +\"+\" + str(self.root)+ \"sqrt(\"+ str(self.d) +\")\"\n",
    "            else:\n",
    "                return str(self.integer) + \"+\" + str(self.root)+ \"(1+sqrt(\"+ str(self.d) +\"))/2\"\n",
    "        else: \n",
    "            if self.d % 4 != 1:\n",
    "                return str(self.integer)  + str(self.root)+ \"sqrt(\"+ str(self.d) + \")\"\n",
    "            else:\n",
    "                return str(self.integer)  + str(self.root)+ \"(1+sqrt(\"+ str(self.d) +\"))/2\"\n",
    "        \n",
    "    def __add__(self,other): # defining addition\n",
    "        assert self.d==other.d #gives error if d's arent the same \n",
    "        return Zsqrtd(self.integer+other.integer,self.root+other.root,self.d)\n",
    "    def __sub__(self,other): #defining subtraction\n",
    "        assert self.d==other.d\n",
    "        return Zsqrtd(self.integer-other.integer,self.root-other.root,self.d)\n",
    "    \n",
    "    def __mul__(self,other): #defining multiplication\n",
    "        assert self.d==other.d\n",
    "        if self.d % 4 != 1:\n",
    "            return Zsqrtd(self.integer*other.integer+self.d*self.root*other.root, self.integer*other.root+self.root*other.integer,self.d)\n",
    "        return Zsqrtd(self.integer*other.integer+self.root*other.root*(self.d-1)//4,self.root*other.integer+other.root*self.integer+self.root*other.root,self.d)\n",
    "    def __pow__(self,other):\n",
    "        out=Zsqrtd(self.integer,self.root,self.d)\n",
    "        for i in range(other):\n",
    "            out = out * self\n",
    "        return out\n",
    "    def conj(self):\n",
    "        if self.d % 4 != 1:\n",
    "            return Zsqrtd(self.integer, -self.root,self.d)\n",
    "        return Zsqrtd(self.integer+self.root, -self.root,self.d)\n",
    "    def __floordiv__(self,other): # defining floor division so we can take mods, we dont need truediv\n",
    "        assert self.d==other.d\n",
    "        denom = (other.conj() * other).integer\n",
    "        if denom == 0:\n",
    "            print(other.conj() * other)\n",
    "            print(other)\n",
    "            assert 0\n",
    "        numer = other.conj() * self\n",
    "        return Zsqrtd(numer.integer//denom,numer.root//denom,self.d)\n",
    "    \n",
    "    def __mod__(self,other) : #defining mod := the remainder after floor division\n",
    "        assert self.d==other.d\n",
    "        return self-((self//other)*other)\n",
    "    def __eq__(self,other):\n",
    "        assert self.d==other.d\n",
    "        return (self.integer==other.integer) and (self.root==other.root)\n",
    "    def norm(self):\n",
    "        return (self*self.conj()).integer\n",
    "    def withoutunits(self):\n",
    "        if not self.integer==self.root==0:\n",
    "            if self.d==-1:\n",
    "                I=Zsqrtd(0,1,-1)\n",
    "                while not (self.integer>0 and self.root>=0):\n",
    "                    self = self * I\n",
    "            elif self.d==-3:\n",
    "                w=Zsqrtd(0,1,-3) # this generates the group of units\n",
    "                while not (self.integer*2+self.root>0 and self.root>=0 and (self * w * w).root>0):\n",
    "                    self = self * w\n",
    "            elif self.d<0:\n",
    "                #units are only \\pm 1 so its easy!\n",
    "                if self.root < 0:\n",
    "                    self = self * Zsqrtd(-1,0,self.d)\n",
    "                elif self.root == 0:\n",
    "                    if self.integer < 0:\n",
    "                        self = self * Zsqrtd(-1,0,self.d)\n",
    "            else: #self.d>0\n",
    "                if self.d%4==1:\n",
    "                    if self.integer+self.root/2+self.root/2*sqrt(self.d)<0:\n",
    "                        self = self * Zsqrtd(-1,0,self.d)\n",
    "                    while self.integer+self.root*(1+sqrt(self.d))/2 < 1:\n",
    "                        self = self * fundamental_units[self.d]\n",
    "                    while (self // fundamental_units[self.d]).integer+(self // fundamental_units[self.d]).root*(1+sqrt(self.d))/2 > 1:\n",
    "                        self = self // fundamental_units[self.d]\n",
    "                else:\n",
    "                    if self.integer+self.root*sqrt(self.d) < 0:\n",
    "                        self = self * Zsqrtd(-1,0,self.d)\n",
    "                    while self.integer+self.root*sqrt(self.d) < 1:\n",
    "                        self = self * fundamental_units[self.d]\n",
    "                    while (self // fundamental_units[self.d]).integer+(self // fundamental_units[self.d]).root*sqrt(self.d) > 1:\n",
    "                        self = self // fundamental_units[self.d]\n",
    "        return self\n"
   ]
  },
  {
   "cell_type": "code",
   "execution_count": 10,
   "id": "c992ff",
   "metadata": {
    "collapsed": false
   },
   "outputs": [
   ],
   "source": [
    "def trialcommfact(a,b):#a,b are in Zsqrtd and we aim to find a common factor instead of a gcd\n",
    "    assert a.d==b.d\n",
    "    for i in range(max(abs(a.integer),abs(a.root),abs(b.integer),abs(b.root))+1):#is this range correct when d>0? NO\n",
    "        for j in range(-max(abs(a.integer),abs(a.root),abs(b.integer),abs(b.root)),max(abs(a.integer),abs(a.root),abs(b.integer),abs(b.root))+1):\n",
    "            if i!=0 or j!=0:\n",
    "                f=Zsqrtd(i,j,d=a.d)\n",
    "                if a%f==Zsqrtd(0,d=a.d) and b%f== Zsqrtd(0,d=a.d) and abs(f.norm())!=1:\n",
    "                    return f\n",
    "    return Zsqrtd(1,d=a.d)\n",
    "\n",
    "def commfact(a,b):\n",
    "    assert a.d==b.d\n",
    "    while not b == Zsqrtd(0,0,b.d):\n",
    "        beforenm=b.norm()\n",
    "        a,b = b,(a%b).withoutunits()\n",
    "        if b.norm()>beforenm and a.d not in [-11, -7, -3, -2, -1, 2, 3, 5, 6, 7, 11, 13, 17, 19, 21, 29, 33, 37, 41, 57, 73]:#the point is that if we are in a euclidean domain, we shouldn't need to do trial division. The list of values of d is from wikipedia https://en.wikipedia.org/wiki/Euclidean_domain\n",
    "            break\n",
    "    if b == Zsqrtd(0,0,b.d):\n",
    "        return a\n",
    "    return trialcommfact(a,b)"
   ]
  },
  {
   "cell_type": "code",
   "execution_count": 11,
   "id": "f0e60a",
   "metadata": {
    "collapsed": false
   },
   "outputs": [
   ],
   "source": [
    "####################### INTEGER FACTORING METHODS ####################################\n",
    "\n",
    "def modexp(a,m,n):#computes a**m%n by repeated squaring\n",
    "    if m==1:\n",
    "        return a%n\n",
    "    elif m%2 == 0:\n",
    "        return modexp((a*a)%n,m//2,n)\n",
    "    else:\n",
    "        return (a*modexp((a*a)%n,(m-1)//2,n))%n\n",
    "    \n",
    "def lcmB(B):#computes lcm of 1,2,3,...,B\n",
    "    product = 1\n",
    "    for p in primes(B):\n",
    "        product *= p^(int(log(B ,p))) \n",
    "    return product\n",
    "\n",
    "def modinv(a,n):#computes a^-1 mod n using extended euclidean algorithm\n",
    "    a%=n\n",
    "    r=(0,1)\n",
    "    #s=(1,0)\n",
    "    N=(n,a)\n",
    "    #at all times, we should have N[0]=r[0]*a+s[0]*n\n",
    "    while N[1]!=0:\n",
    "        d=N[0]//N[1] #\n",
    "        r=(r[1],r[0]-d*r[1])\n",
    "        #s=(s[1],s[0]-d*s[1])\n",
    "        N=(N[1],N[0]%N[1])\n",
    "    assert N[0]==1# gcd(a,n)!=1\n",
    "    return r[0]%n\n",
    "\n",
    "def pollard(N,B=15,m=0):#implements pollards p-1 algorithm\n",
    "    if not m: #this way we don't compute lcmB(B) many times if we run the algorithm many times\n",
    "        m = lcmB(B)\n",
    "    for i in range(100):\n",
    "        a=randint(2,N-2)\n",
    "        am_1 = modexp(a,m,N) - 1\n",
    "        factor = gcd(am_1,N)\n",
    "        if 1 < factor < N:\n",
    "            return factor,N//factor\n",
    "    return -1\n",
    "               \n",
    "def ECadd(a,N,P,Q): # add points P & Q over the elliptic curve y^2 = x^3 + ax + 1\n",
    "    if P == \"inf\": #case 1: P is infinity\n",
    "        return Q\n",
    "    if Q == \"inf\": #case 2: Q is infinity\n",
    "        return P\n",
    "    if P[0] == Q[0] and (P[1] + Q[1])%N==0: #case 3: points on same x line\n",
    "        return \"inf\"\n",
    "    else: #compute gradient, use this to find new (x,y)\n",
    "        if P==Q:\n",
    "            grad = ((3*P[0]**2 + a)*(modinv(2*P[1],N)))%N\n",
    "        else:\n",
    "            grad = ((P[1]-Q[1])*(modinv(P[0]-Q[0],N)))%N\n",
    "        x = (grad**2 - P[0]- Q[0])%N #x co-ord of output (R in wstein ENT alg 6.2.1)\n",
    "        y = (-grad*x-P[1]+grad*P[0])%N\n",
    "        return (x,y)\n",
    "           \n",
    "def lenstraTrial(a,N,m):#does lenstras algorithm on the EC y^2=x^3+ax+1\n",
    "    P=(0,1)\n",
    "    mP=(0,1)# use this to compute mP\n",
    "    m=bin(m)[2:]#this is m in binary as a string of 0s and 1s\n",
    "    #now calculate m*P\n",
    "    for bit in m[1:]:#looks at bits but ignores the first to do repeated doubling\n",
    "        try:\n",
    "            mP=ECadd(a,N,mP,mP)\n",
    "        except:#then we have found a nonzero gcd in denom, which is 2P[1] in ECadd\n",
    "            return gcd(N,mP[1])#y1 is a non-unit in Z/NZ so this is a non-trivial factor\n",
    "        if bit=='1':\n",
    "            try:\n",
    "                mP=ECadd(a,N,mP,P)\n",
    "            except: #we found a non 0 gcd in denom, which is P[0]-Q[0]=mP[0]\n",
    "                return gcd(N,mP[0])\n",
    "    return N#failed to find a non-trivial factor\n",
    "\n",
    "def lenstra(N,B=15,numTrials=10,m=0):#trying different elliptic curves until one works\n",
    "    if N%2==0:\n",
    "        return 2,N//2\n",
    "    if not m:#if we have pre-computed an m, don't compute it again!\n",
    "        m=lcmB(B)\n",
    "    for i in range(numTrials):\n",
    "        a=randint(1,N-1)\n",
    "        g=lenstraTrial(a,N,m)\n",
    "        if 1<g<N:\n",
    "            return g,N//g\n",
    "    return -1#failed to find a factor"
   ]
  },
  {
   "cell_type": "code",
   "execution_count": 29,
   "id": "e2e4f3",
   "metadata": {
    "collapsed": false
   },
   "outputs": [
   ],
   "source": [
    "####################################################### NORM METHOD ###########################################################\n",
    "######## note that this method to factorise the norm doesnt nessecarily work for all rings of integers but it works well for Gaussian Integers ########\n",
    "\n",
    "def lenstraNorm(N,B=10,m=0):#implements lenstra algorithm for ZZ[i] using a different method\n",
    "    if not m:\n",
    "        m = lcmB(B)\n",
    "    normN = N.norm() #use the norm of our gaussian integer \n",
    "    f = lenstra(normN,m=m)\n",
    "    if f==-1:\n",
    "        return -1\n",
    "    f=f[0]\n",
    "    factor = commfact(N,Zsqrtd(f,0,N.d))\n",
    "    return factor,N//factor\n"
   ]
  },
  {
   "cell_type": "code",
   "execution_count": 13,
   "id": "e088e4",
   "metadata": {
    "collapsed": false
   },
   "outputs": [
   ],
   "source": [
    "def pollardZsqrtd(N,B=15,m=0):#implements pollards p-1 algorithm where N is a Zsqrtd object\n",
    "    if not m: #this way we don't compute lcmB(B) many times if we run the algorithm many times\n",
    "        m = lcmB(B)\n",
    "    for i in range(300):\n",
    "        a=Zsqrtd(randint(2,1000),randint(2,1000),N.d)\n",
    "        am_1 = modexp(a,m,N) - Zsqrtd(1,0,N.d)\n",
    "        factor = commfact(am_1,N)\n",
    "        if 1 < abs(factor.norm()) < abs(N.norm()):\n",
    "            return factor,N//factor\n",
    "    return -1\n",
    "\n",
    "########################## DIXONS'S RANDOM SQUARES#########################################\n",
    "def Bsmoothnesssqrtd(N,primesuptoB): #this is so we can find suitible k's that are B smooth\n",
    "    output = []\n",
    "    zero=Zsqrtd(0,0,N.d)\n",
    "    for p in primesuptoB:\n",
    "        count = 0\n",
    "        while N%p==zero:\n",
    "            N=N//p\n",
    "            count +=1\n",
    "        output.append(count) # adds the power to the list\n",
    "    if abs(N.norm())==1:\n",
    "        return output \n",
    "    return False #fails if not B smooth\n",
    "\n",
    "def Zsqrtdprimes(B,d): # finds a list of primes in Zsqrtd\n",
    "    assert d<0 # else this method won't work in its current format\n",
    "    start=[]\n",
    "    out=[]\n",
    "    for i in range(-floor(sqrt(B)),floor(sqrt(B))+1):#generate a list of all the numbers\n",
    "        for j in range(-floor(sqrt((i^2-B)/d)),floor(sqrt((i^2-B)/d))+1):\n",
    "            x=Zsqrtd(i,j,d).withoutunits()\n",
    "            if B>=x.norm()>1:\n",
    "                if x not in start:\n",
    "                    start.append(x)\n",
    "    #sort the list by norm size\n",
    "    start = sorted(start, key=lambda x: x.norm())\n",
    "    #now we can do sieve of eratosthenes same as before!\n",
    "    zero=Zsqrtd(0,0,d)\n",
    "    while start != []:\n",
    "        k=start.pop(0)\n",
    "        out.append(k)\n",
    "        i=0\n",
    "        while i<len(start):\n",
    "            if start[i]%k==zero:\n",
    "                start.pop(i)\n",
    "            else:\n",
    "                i+=1\n",
    "    return out\n",
    "        \n",
    "\n",
    "def dixonsZsqrtd(N,B=100):#this works! however, when working over a non-euclidean domain, this is rather slow...\n",
    "    P=Zsqrtdprimes(B,N.d) #get a list of the primes of norm up to B\n",
    "    goodA=[] #initialise a list of a's that are squares\n",
    "    goodK=[]\n",
    "    J = matrix(ZZ)\n",
    "    lb=int(sqrt(abs(N.norm()))) #bounds for our random a's\n",
    "    ub=abs(N.norm())-lb\n",
    "    zero=Zsqrtd(0,0,N.d)\n",
    "    for _ in range(100):\n",
    "        a=Zsqrtd(randint(lb,ub),randint(lb,ub),N.d)\n",
    "        k= (a*a)%N\n",
    "        if k==zero: #need to deal with this case separately otherwise Bsmoothness will go on forever\n",
    "            f=commfact(a,N)\n",
    "            return f,N//f\n",
    "        kFactors = Bsmoothnesssqrtd(k,P)\n",
    "        if kFactors:\n",
    "            J=matrix(ZZ,J.rows()+[kFactors]) #adds the row kFactors to the matrix J\n",
    "            goodA.append(a)\n",
    "            goodK.append(k)\n",
    "            x=matrix(GF(2),J).left_kernel().random_element() #takes a random element in the null space of matrix J mod 2\n",
    "            A,B=Zsqrtd(1,0,N.d),Zsqrtd(1,0,N.d) \n",
    "            for i in range(len(x)): # A is the product of good A's \n",
    "                if x[i]==1:\n",
    "                    A*=goodA[i]\n",
    "            y=1/2*matrix(ZZ,x)*J #This will give the prime factorisation of B\n",
    "            for i in range(len(P)): \n",
    "                B*=P[i]^y[0,i] #calculates the integer B so now we have A^2=B^2 mod N\n",
    "            g=commfact(A-B,N)\n",
    "            if 1<abs(g.norm())<abs(N.norm()):\n",
    "                return g,N//g\n",
    "    return -1"
   ]
  },
  {
   "cell_type": "code",
   "execution_count": 30,
   "id": "2a25ec",
   "metadata": {
    "collapsed": false,
    "scrolled": true
   },
   "outputs": [
    {
     "name": "stdout",
     "output_type": "stream",
     "text": [
      "-1013+10049sqrt(-1)\n",
      "(1+1sqrt(-1), 4518+5531sqrt(-1))\n"
     ]
    }
   ],
   "source": [
    "##################### Factorise a random nonprime gaussian integer using lenstra norm ###################################\n",
    "\n",
    "a=Zsqrtd(randint(2,100),randint(2,100),-1)*Zsqrtd(randint(2,100),randint(2,100),-1)\n",
    "print(a)\n",
    "print(lenstraNorm(a))"
   ]
  },
  {
   "cell_type": "code",
   "execution_count": 31,
   "id": "430a63",
   "metadata": {
    "collapsed": false
   },
   "outputs": [
    {
     "name": "stdout",
     "output_type": "stream",
     "text": [
      "-314+5442sqrt(-1)\n",
      "(43+36sqrt(-1), 58+78sqrt(-1))\n"
     ]
    }
   ],
   "source": [
    "################# Factorise a random nonprime gaussian integer using pollard ###################\n",
    "\n",
    "a=Zsqrtd(randint(2,100),randint(2,100),-1)*Zsqrtd(randint(2,100),randint(2,100),-1)\n",
    "print(a)\n",
    "print(pollardZsqrtd(a))"
   ]
  },
  {
   "cell_type": "code",
   "execution_count": 32,
   "id": "81024d",
   "metadata": {
    "collapsed": false
   },
   "outputs": [
    {
     "name": "stdout",
     "output_type": "stream",
     "text": [
      "-432+756sqrt(-2)\n",
      "(11+14sqrt(-2), 32+28sqrt(-2))\n"
     ]
    }
   ],
   "source": [
    "################# Factorise a random ZZ[sqrt(-2)] using pollard ###################\n",
    "\n",
    "a=Zsqrtd(randint(2,50),randint(2,50),-2)*Zsqrtd(randint(2,50),randint(2,50),-2)\n",
    "print(a)\n",
    "print(pollardZsqrtd(a)) #sometimes this runs forever "
   ]
  },
  {
   "cell_type": "code",
   "execution_count": 36,
   "id": "d5a4ff",
   "metadata": {
    "collapsed": false
   },
   "outputs": [
    {
     "name": "stdout",
     "output_type": "stream",
     "text": [
      "-1249+903sqrt(-1)\n"
     ]
    },
    {
     "name": "stdout",
     "output_type": "stream",
     "text": [
      "-1\n"
     ]
    }
   ],
   "source": [
    "############### Factorise a random nonprime gaussian integer using dixons squares #####################\n",
    "\n",
    "a=Zsqrtd(randint(2,100),randint(2,100),-1)*Zsqrtd(randint(2,100),randint(2,100),-1)\n",
    "print(a)\n",
    "print(dixonsZsqrtd(a))"
   ]
  },
  {
   "cell_type": "code",
   "execution_count": 37,
   "id": "1c74b9",
   "metadata": {
    "collapsed": false
   },
   "outputs": [
    {
     "name": "stdout",
     "output_type": "stream",
     "text": [
      "(101+156sqrt(-1), 3568027-5511012sqrt(-1))\n",
      "34537\n"
     ]
    }
   ],
   "source": [
    "############################## Factorise the semi-prime 35327*34537 by factorising over the Gaussian integers ##############################\n",
    "\n",
    "print(pollardZsqrtd(Zsqrtd(35327*34537,0,-1),100)) #This only works some of the time\n",
    "#We found 101+156i as a factor of 35327*34537, so we will now take the norm of this factor to hopefully get a factor in the integers\n",
    "print(Zsqrtd(101,156,-1).norm()) "
   ]
  },
  {
   "cell_type": "code",
   "execution_count": 13,
   "id": "387c1a",
   "metadata": {
    "collapsed": false,
    "scrolled": true
   },
   "outputs": [
    {
     "name": "stdout",
     "output_type": "stream",
     "text": [
      "pollard's over the integers failed 10 times\n",
      "pollard's over the gaussian integers failed 8 times\n"
     ]
    }
   ],
   "source": [
    "############################## Comparison of factorising 35327*34537 by factorising over the Gaussian integers and over the integers normally ##############################\n",
    "\n",
    "def pollardGaussianVIntegers(N):\n",
    "    goodI=0\n",
    "    goodG=0\n",
    "    badI=0\n",
    "    badG=0\n",
    "    for _ in range(10):\n",
    "        integer = pollard(N,100)\n",
    "        gaussian = pollardZsqrtd(Zsqrtd(N,0,-1),100)\n",
    "        if integer==-1:\n",
    "            badI += 1\n",
    "        else:\n",
    "            goodI += 1\n",
    "            \n",
    "        if gaussian==-1:\n",
    "            badG += 1\n",
    "        else:\n",
    "            goodG += 1\n",
    "    print(f\"pollard's over the integers failed {badI} times\")\n",
    "    print(f\"pollard's over the gaussian integers failed {badG} times\")\n",
    "\n",
    "pollardGaussianVIntegers(35327*34537)    "
   ]
  },
  {
   "cell_type": "code",
   "execution_count": 38,
   "id": "d7f9e8",
   "metadata": {
    "collapsed": false
   },
   "outputs": [
   ],
   "source": [
    "######################### LOG TIME GRAPH FOR POLLARD & LENSTRA NORM & DIXONS ##########################################\n",
    "from time import time\n",
    "from matplotlib import pyplot as plt\n",
    "#Taking B=15 for both pollard and lenstra, and B=100 for dixon, as these values work best for each, we want to compare time to the best performance\n",
    "def timegraph(reps=500,B=15):\n",
    "    m=lcmB(B)\n",
    "    tpollard=[]\n",
    "    pollardfails=0\n",
    "    tlenstra=[]\n",
    "    lenstrafails=0\n",
    "    tdixon=[]\n",
    "    dixonfails=0\n",
    "    for i in range(reps):\n",
    "        n=Zsqrtd(randint(2,100),randint(2,100),-1)*Zsqrtd(randint(2,100),randint(2,100),-1)\n",
    "            \n",
    "        start=time()\n",
    "        for j in range(1):\n",
    "            f=pollardZsqrtd(n,m=m)\n",
    "            if f==-1:\n",
    "                pollardfails+=1\n",
    "        tpollard.append(log(time()-start))\n",
    "        \n",
    "        start=time()\n",
    "        for j in range(1):\n",
    "            f=lenstraNorm(n,m=m)\n",
    "            if f==-1:\n",
    "                lenstrafails+=1\n",
    "        tlenstra.append(log(time()-start))\n",
    "        \n",
    "        start=time()\n",
    "        for j in range(1):\n",
    "            f=dixonsZsqrtd(n,B=100)\n",
    "            if f==-1:\n",
    "                dixonfails+=1\n",
    "        tdixon.append(log(time()-start))\n",
    "        \n",
    "    plt.hist(tpollard,color='r',alpha=0.5,bins=30)\n",
    "    plt.hist(tlenstra,color='b',alpha=0.5,bins=30)\n",
    "    plt.hist(tdixon,color='g',alpha=0.5,bins=30)\n",
    "    plt.legend(['Pollard','Lenstra Norm','Dixon'])\n",
    "    plt.xlabel('log of time')\n",
    "    plt.ylabel('frequency')\n",
    "    plt.show()\n",
    "    print(f\"pollard failed {pollardfails} times\")\n",
    "    print(f\"lenstra failed {lenstrafails} times\")\n",
    "    print(f\"dixon failed {dixonfails} times\")"
   ]
  },
  {
   "cell_type": "code",
   "execution_count": 39,
   "id": "39f150",
   "metadata": {
    "collapsed": false,
    "scrolled": true
   },
   "outputs": [
   ],
   "source": [
    "#timegraph()"
   ]
  },
  {
   "cell_type": "code",
   "execution_count": 40,
   "id": "163bad",
   "metadata": {
    "collapsed": false
   },
   "outputs": [
   ],
   "source": [
    "def pollardGraphGaussian(N):\n",
    "    B=list(range(3,200,2))\n",
    "    goodB=[]\n",
    "    goodT=[]\n",
    "    badB=[]\n",
    "    badT=[]\n",
    "    for i in B:\n",
    "        start=time()\n",
    "        m=pollardZsqrtd(N,i)\n",
    "        end=time()\n",
    "        if m==-1:\n",
    "            badB.append(i)\n",
    "            badT.append(end-start)\n",
    "        else:\n",
    "            goodB.append(i)\n",
    "            goodT.append(end-start)\n",
    "    plt.scatter(goodB,goodT,color='g')\n",
    "    plt.scatter(badB,badT,color='r')\n",
    "    plt.xlabel('Value of B')\n",
    "    plt.ylabel('Time taken to factorise (or not factorise) N in seconds')\n",
    "    plt.legend(['Success','Fail'], loc='upper left')\n",
    "    plt.show()\n",
    "\n",
    "a=Zsqrtd(76,61,-1)*Zsqrtd(117,50,-1)    \n",
    "#pollardGraphGaussian(a)"
   ]
  },
  {
   "cell_type": "code",
   "execution_count": 0,
   "id": "7ce363",
   "metadata": {
    "collapsed": false
   },
   "outputs": [
   ],
   "source": [
    "def lenstraNormGraphGaussian(N):\n",
    "    B=list(range(3,200,2))\n",
    "    goodB=[]\n",
    "    goodT=[]\n",
    "    badB=[]\n",
    "    badT=[]\n",
    "    for i in B:\n",
    "        start=time()\n",
    "        m=lenstraNorm(N,i)\n",
    "        end=time()\n",
    "        if m==-1:\n",
    "            badB.append(i)\n",
    "            badT.append(end-start)\n",
    "        else:\n",
    "            goodB.append(i)\n",
    "            goodT.append(end-start)\n",
    "    plt.scatter(goodB,goodT,color='g')\n",
    "    plt.scatter(badB,badT,color='r')\n",
    "    plt.xlabel('Value of B')\n",
    "    plt.ylabel('Time taken to factorise (or not factorise) N in seconds')\n",
    "    plt.legend(['Success','Fail'], loc='upper left')\n",
    "    plt.show()\n",
    "\n",
    "a=Zsqrtd(76,61,-1)*Zsqrtd(117,50,-1)    \n",
    "#lenstraNormGraphGaussian(a)"
   ]
  },
  {
   "cell_type": "code",
   "execution_count": 0,
   "id": "3644b5",
   "metadata": {
    "collapsed": false,
    "scrolled": true
   },
   "outputs": [
   ],
   "source": [
    "def dixonsGraphGaussian(N):\n",
    "    B=list(range(50,400,2))\n",
    "    goodB=[]\n",
    "    goodT=[]\n",
    "    badB=[]\n",
    "    badT=[]\n",
    "    for i in B:\n",
    "        start=time()\n",
    "        m=dixonsZsqrtd(N,i)\n",
    "        end=time()\n",
    "        if m==-1:\n",
    "            badB.append(i)\n",
    "            badT.append(end-start)\n",
    "        else:\n",
    "            goodB.append(i)\n",
    "            goodT.append(end-start)\n",
    "    plt.scatter(goodB,goodT,color='g')\n",
    "    plt.scatter(badB,badT,color='r')\n",
    "    plt.xlabel('Value of B')\n",
    "    plt.ylabel('Time taken to factorise (or not factorise) N in seconds')\n",
    "    plt.legend(['Success','Fail'], loc='upper left')\n",
    "    plt.show()\n",
    "\n",
    "a=Zsqrtd(76,61,-1)*Zsqrtd(117,50,-1)    \n",
    "#dixonsGraphGaussian(a)"
   ]
  }
 ],
 "metadata": {
  "kernelspec": {
   "argv": [
    "sage-10.4",
    "--python",
    "-m",
    "sage.repl.ipython_kernel",
    "--matplotlib=inline",
    "-f",
    "{connection_file}"
   ],
   "display_name": "SageMath 10.4",
   "env": {
   },
   "language": "sagemath",
   "metadata": {
    "cocalc": {
     "description": "Open-source mathematical software system",
     "priority": 10,
     "url": "https://www.sagemath.org/"
    }
   },
   "name": "sage-10.4",
   "resource_dir": "/ext/jupyter/kernels/sage-10.4"
  },
  "language_info": {
   "codemirror_mode": {
    "name": "ipython",
    "version": 3
   },
   "file_extension": ".py",
   "mimetype": "text/x-python",
   "name": "python",
   "nbconvert_exporter": "python",
   "pygments_lexer": "ipython3",
   "version": "3.12.4"
  }
 },
 "nbformat": 4,
 "nbformat_minor": 4
}